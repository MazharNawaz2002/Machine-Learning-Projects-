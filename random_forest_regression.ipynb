{
 "cells": [
  {
   "cell_type": "code",
   "execution_count": 1,
   "id": "86503436",
   "metadata": {},
   "outputs": [],
   "source": [
    "import cx_Oracle\n",
    "import pandas as pd\n",
    "import numpy as np\n",
    "import seaborn as sns\n",
    "import sklearn as sk"
   ]
  },
  {
   "cell_type": "code",
   "execution_count": 2,
   "id": "02f43671",
   "metadata": {},
   "outputs": [],
   "source": [
    "connection = cx_Oracle.connect(\"etl_dpl/oracle123@192.168.0.57:1521/TRNG\")\n",
    "cursor = connection.cursor()"
   ]
  },
  {
   "cell_type": "code",
   "execution_count": 3,
   "id": "4db8ed7a",
   "metadata": {},
   "outputs": [],
   "source": [
    "cursor.execute(\"\"\"\n",
    "    SELECT C.CUSTOMER_ID,C.CUSTOMER_NAME,O.ORDERNUMBER,O.BUILDSTARTDATE,O.CHANNEL,O.CURRENCY_CODE,\n",
    "    O.WAREHOUSE_CODE,O.DELIVERY_REGION_ID,O.PRODUCT_ID,O.ORDER_QUANTITY,O.UNIT_PRICE,O.LINE_TOTAL,O.TOTAL_UNIT_COST,\n",
    "    P.PRODUCT_NAME,R.CITY,R.COUNTRY\n",
    "    FROM CUSTOMERS C \n",
    "    LEFT JOIN ORDERS O \n",
    "    ON C.CUSTOMER_ID = O.CUSTOMER_ID\n",
    "    LEFT JOIN PRODUCTS P\n",
    "    ON C.CUSTOMER_ID = P.PRODUCT_ID\n",
    "    LEFT JOIN REGIONS R\n",
    "    ON O.DELIVERY_REGION_ID = R.REGION_ID\n",
    "\"\"\")\n",
    "result = cursor.fetchall()\n",
    "columns = [col[0] for col in cursor.description]\n",
    "data = [dict(zip(columns, row)) for row in result]"
   ]
  },
  {
   "cell_type": "code",
   "execution_count": 4,
   "id": "96a88d2b",
   "metadata": {},
   "outputs": [],
   "source": [
    "df = pd.DataFrame(data)"
   ]
  },
  {
   "cell_type": "code",
   "execution_count": 5,
   "id": "cb8df88b",
   "metadata": {},
   "outputs": [],
   "source": [
    "columns_to_drop = ['CUSTOMER_ID', 'CUSTOMER_NAME', 'ORDERNUMBER', 'CURRENCY_CODE', 'WAREHOUSE_CODE']\n",
    "df.drop(columns=columns_to_drop, inplace=True)"
   ]
  },
  {
   "cell_type": "code",
   "execution_count": 6,
   "id": "f3cea572",
   "metadata": {},
   "outputs": [],
   "source": [
    "df['BUILDSTARTDATE'] = pd.to_datetime(df['BUILDSTARTDATE'])"
   ]
  },
  {
   "cell_type": "code",
   "execution_count": 7,
   "id": "7b52081e",
   "metadata": {},
   "outputs": [],
   "source": [
    "df['MONTH'] = df['BUILDSTARTDATE'].dt.month\n",
    "df['YEAR'] = df['BUILDSTARTDATE'].dt.year"
   ]
  },
  {
   "cell_type": "code",
   "execution_count": 8,
   "id": "c34fd3c1",
   "metadata": {},
   "outputs": [],
   "source": [
    "df.drop(columns=['BUILDSTARTDATE', 'LINE_TOTAL', 'TOTAL_UNIT_COST','PRODUCT_NAME','CHANNEL','CITY'], inplace=True)"
   ]
  },
  {
   "cell_type": "code",
   "execution_count": 9,
   "id": "db3edc11",
   "metadata": {},
   "outputs": [
    {
     "data": {
      "text/html": [
       "<div>\n",
       "<style scoped>\n",
       "    .dataframe tbody tr th:only-of-type {\n",
       "        vertical-align: middle;\n",
       "    }\n",
       "\n",
       "    .dataframe tbody tr th {\n",
       "        vertical-align: top;\n",
       "    }\n",
       "\n",
       "    .dataframe thead th {\n",
       "        text-align: right;\n",
       "    }\n",
       "</style>\n",
       "<table border=\"1\" class=\"dataframe\">\n",
       "  <thead>\n",
       "    <tr style=\"text-align: right;\">\n",
       "      <th></th>\n",
       "      <th>DELIVERY_REGION_ID</th>\n",
       "      <th>PRODUCT_ID</th>\n",
       "      <th>ORDER_QUANTITY</th>\n",
       "      <th>UNIT_PRICE</th>\n",
       "      <th>COUNTRY</th>\n",
       "      <th>MONTH</th>\n",
       "      <th>YEAR</th>\n",
       "    </tr>\n",
       "  </thead>\n",
       "  <tbody>\n",
       "    <tr>\n",
       "      <th>0</th>\n",
       "      <td>5</td>\n",
       "      <td>6</td>\n",
       "      <td>11</td>\n",
       "      <td>5045.1</td>\n",
       "      <td>Australia</td>\n",
       "      <td>9</td>\n",
       "      <td>2015</td>\n",
       "    </tr>\n",
       "    <tr>\n",
       "      <th>1</th>\n",
       "      <td>24</td>\n",
       "      <td>22</td>\n",
       "      <td>12</td>\n",
       "      <td>3530.9</td>\n",
       "      <td>Australia</td>\n",
       "      <td>10</td>\n",
       "      <td>2015</td>\n",
       "    </tr>\n",
       "    <tr>\n",
       "      <th>2</th>\n",
       "      <td>82</td>\n",
       "      <td>8</td>\n",
       "      <td>10</td>\n",
       "      <td>1118.9</td>\n",
       "      <td>Australia</td>\n",
       "      <td>10</td>\n",
       "      <td>2015</td>\n",
       "    </tr>\n",
       "    <tr>\n",
       "      <th>3</th>\n",
       "      <td>35</td>\n",
       "      <td>1</td>\n",
       "      <td>6</td>\n",
       "      <td>1038.5</td>\n",
       "      <td>Australia</td>\n",
       "      <td>10</td>\n",
       "      <td>2015</td>\n",
       "    </tr>\n",
       "    <tr>\n",
       "      <th>4</th>\n",
       "      <td>79</td>\n",
       "      <td>1</td>\n",
       "      <td>8</td>\n",
       "      <td>1862.6</td>\n",
       "      <td>Australia</td>\n",
       "      <td>10</td>\n",
       "      <td>2015</td>\n",
       "    </tr>\n",
       "    <tr>\n",
       "      <th>...</th>\n",
       "      <td>...</td>\n",
       "      <td>...</td>\n",
       "      <td>...</td>\n",
       "      <td>...</td>\n",
       "      <td>...</td>\n",
       "      <td>...</td>\n",
       "      <td>...</td>\n",
       "    </tr>\n",
       "    <tr>\n",
       "      <th>4290</th>\n",
       "      <td>24</td>\n",
       "      <td>14</td>\n",
       "      <td>11</td>\n",
       "      <td>3631.4</td>\n",
       "      <td>Australia</td>\n",
       "      <td>12</td>\n",
       "      <td>2018</td>\n",
       "    </tr>\n",
       "    <tr>\n",
       "      <th>4291</th>\n",
       "      <td>61</td>\n",
       "      <td>25</td>\n",
       "      <td>10</td>\n",
       "      <td>1105.5</td>\n",
       "      <td>Australia</td>\n",
       "      <td>12</td>\n",
       "      <td>2018</td>\n",
       "    </tr>\n",
       "    <tr>\n",
       "      <th>4292</th>\n",
       "      <td>43</td>\n",
       "      <td>12</td>\n",
       "      <td>7</td>\n",
       "      <td>174.2</td>\n",
       "      <td>Australia</td>\n",
       "      <td>12</td>\n",
       "      <td>2018</td>\n",
       "    </tr>\n",
       "    <tr>\n",
       "      <th>4293</th>\n",
       "      <td>31</td>\n",
       "      <td>16</td>\n",
       "      <td>8</td>\n",
       "      <td>268.0</td>\n",
       "      <td>Australia</td>\n",
       "      <td>12</td>\n",
       "      <td>2018</td>\n",
       "    </tr>\n",
       "    <tr>\n",
       "      <th>4294</th>\n",
       "      <td>11</td>\n",
       "      <td>4</td>\n",
       "      <td>10</td>\n",
       "      <td>1969.8</td>\n",
       "      <td>Australia</td>\n",
       "      <td>12</td>\n",
       "      <td>2018</td>\n",
       "    </tr>\n",
       "  </tbody>\n",
       "</table>\n",
       "<p>4295 rows × 7 columns</p>\n",
       "</div>"
      ],
      "text/plain": [
       "      DELIVERY_REGION_ID  PRODUCT_ID  ORDER_QUANTITY  UNIT_PRICE    COUNTRY  \\\n",
       "0                      5           6              11      5045.1  Australia   \n",
       "1                     24          22              12      3530.9  Australia   \n",
       "2                     82           8              10      1118.9  Australia   \n",
       "3                     35           1               6      1038.5  Australia   \n",
       "4                     79           1               8      1862.6  Australia   \n",
       "...                  ...         ...             ...         ...        ...   \n",
       "4290                  24          14              11      3631.4  Australia   \n",
       "4291                  61          25              10      1105.5  Australia   \n",
       "4292                  43          12               7       174.2  Australia   \n",
       "4293                  31          16               8       268.0  Australia   \n",
       "4294                  11           4              10      1969.8  Australia   \n",
       "\n",
       "      MONTH  YEAR  \n",
       "0         9  2015  \n",
       "1        10  2015  \n",
       "2        10  2015  \n",
       "3        10  2015  \n",
       "4        10  2015  \n",
       "...     ...   ...  \n",
       "4290     12  2018  \n",
       "4291     12  2018  \n",
       "4292     12  2018  \n",
       "4293     12  2018  \n",
       "4294     12  2018  \n",
       "\n",
       "[4295 rows x 7 columns]"
      ]
     },
     "execution_count": 9,
     "metadata": {},
     "output_type": "execute_result"
    }
   ],
   "source": [
    "df"
   ]
  },
  {
   "cell_type": "code",
   "execution_count": 10,
   "id": "e9e8a658",
   "metadata": {},
   "outputs": [
    {
     "name": "stdout",
     "output_type": "stream",
     "text": [
      "{'Australia': 0}\n"
     ]
    }
   ],
   "source": [
    "from sklearn.preprocessing import LabelEncoder\n",
    "label_encoder = LabelEncoder()\n",
    "df['COUNTRY'] = label_encoder.fit_transform(df['COUNTRY'])\n",
    "mapping = dict(zip(label_encoder.classes_, label_encoder.transform(label_encoder.classes_)))\n",
    "\n",
    "print(mapping)"
   ]
  },
  {
   "cell_type": "code",
   "execution_count": 11,
   "id": "15c89aa2",
   "metadata": {},
   "outputs": [
    {
     "data": {
      "text/html": [
       "<div>\n",
       "<style scoped>\n",
       "    .dataframe tbody tr th:only-of-type {\n",
       "        vertical-align: middle;\n",
       "    }\n",
       "\n",
       "    .dataframe tbody tr th {\n",
       "        vertical-align: top;\n",
       "    }\n",
       "\n",
       "    .dataframe thead th {\n",
       "        text-align: right;\n",
       "    }\n",
       "</style>\n",
       "<table border=\"1\" class=\"dataframe\">\n",
       "  <thead>\n",
       "    <tr style=\"text-align: right;\">\n",
       "      <th></th>\n",
       "      <th>DELIVERY_REGION_ID</th>\n",
       "      <th>PRODUCT_ID</th>\n",
       "      <th>ORDER_QUANTITY</th>\n",
       "      <th>UNIT_PRICE</th>\n",
       "      <th>COUNTRY</th>\n",
       "      <th>MONTH</th>\n",
       "      <th>YEAR</th>\n",
       "    </tr>\n",
       "  </thead>\n",
       "  <tbody>\n",
       "    <tr>\n",
       "      <th>0</th>\n",
       "      <td>5</td>\n",
       "      <td>6</td>\n",
       "      <td>11</td>\n",
       "      <td>5045.1</td>\n",
       "      <td>0</td>\n",
       "      <td>9</td>\n",
       "      <td>2015</td>\n",
       "    </tr>\n",
       "    <tr>\n",
       "      <th>1</th>\n",
       "      <td>24</td>\n",
       "      <td>22</td>\n",
       "      <td>12</td>\n",
       "      <td>3530.9</td>\n",
       "      <td>0</td>\n",
       "      <td>10</td>\n",
       "      <td>2015</td>\n",
       "    </tr>\n",
       "    <tr>\n",
       "      <th>2</th>\n",
       "      <td>82</td>\n",
       "      <td>8</td>\n",
       "      <td>10</td>\n",
       "      <td>1118.9</td>\n",
       "      <td>0</td>\n",
       "      <td>10</td>\n",
       "      <td>2015</td>\n",
       "    </tr>\n",
       "    <tr>\n",
       "      <th>3</th>\n",
       "      <td>35</td>\n",
       "      <td>1</td>\n",
       "      <td>6</td>\n",
       "      <td>1038.5</td>\n",
       "      <td>0</td>\n",
       "      <td>10</td>\n",
       "      <td>2015</td>\n",
       "    </tr>\n",
       "    <tr>\n",
       "      <th>4</th>\n",
       "      <td>79</td>\n",
       "      <td>1</td>\n",
       "      <td>8</td>\n",
       "      <td>1862.6</td>\n",
       "      <td>0</td>\n",
       "      <td>10</td>\n",
       "      <td>2015</td>\n",
       "    </tr>\n",
       "    <tr>\n",
       "      <th>...</th>\n",
       "      <td>...</td>\n",
       "      <td>...</td>\n",
       "      <td>...</td>\n",
       "      <td>...</td>\n",
       "      <td>...</td>\n",
       "      <td>...</td>\n",
       "      <td>...</td>\n",
       "    </tr>\n",
       "    <tr>\n",
       "      <th>4290</th>\n",
       "      <td>24</td>\n",
       "      <td>14</td>\n",
       "      <td>11</td>\n",
       "      <td>3631.4</td>\n",
       "      <td>0</td>\n",
       "      <td>12</td>\n",
       "      <td>2018</td>\n",
       "    </tr>\n",
       "    <tr>\n",
       "      <th>4291</th>\n",
       "      <td>61</td>\n",
       "      <td>25</td>\n",
       "      <td>10</td>\n",
       "      <td>1105.5</td>\n",
       "      <td>0</td>\n",
       "      <td>12</td>\n",
       "      <td>2018</td>\n",
       "    </tr>\n",
       "    <tr>\n",
       "      <th>4292</th>\n",
       "      <td>43</td>\n",
       "      <td>12</td>\n",
       "      <td>7</td>\n",
       "      <td>174.2</td>\n",
       "      <td>0</td>\n",
       "      <td>12</td>\n",
       "      <td>2018</td>\n",
       "    </tr>\n",
       "    <tr>\n",
       "      <th>4293</th>\n",
       "      <td>31</td>\n",
       "      <td>16</td>\n",
       "      <td>8</td>\n",
       "      <td>268.0</td>\n",
       "      <td>0</td>\n",
       "      <td>12</td>\n",
       "      <td>2018</td>\n",
       "    </tr>\n",
       "    <tr>\n",
       "      <th>4294</th>\n",
       "      <td>11</td>\n",
       "      <td>4</td>\n",
       "      <td>10</td>\n",
       "      <td>1969.8</td>\n",
       "      <td>0</td>\n",
       "      <td>12</td>\n",
       "      <td>2018</td>\n",
       "    </tr>\n",
       "  </tbody>\n",
       "</table>\n",
       "<p>4295 rows × 7 columns</p>\n",
       "</div>"
      ],
      "text/plain": [
       "      DELIVERY_REGION_ID  PRODUCT_ID  ORDER_QUANTITY  UNIT_PRICE  COUNTRY  \\\n",
       "0                      5           6              11      5045.1        0   \n",
       "1                     24          22              12      3530.9        0   \n",
       "2                     82           8              10      1118.9        0   \n",
       "3                     35           1               6      1038.5        0   \n",
       "4                     79           1               8      1862.6        0   \n",
       "...                  ...         ...             ...         ...      ...   \n",
       "4290                  24          14              11      3631.4        0   \n",
       "4291                  61          25              10      1105.5        0   \n",
       "4292                  43          12               7       174.2        0   \n",
       "4293                  31          16               8       268.0        0   \n",
       "4294                  11           4              10      1969.8        0   \n",
       "\n",
       "      MONTH  YEAR  \n",
       "0         9  2015  \n",
       "1        10  2015  \n",
       "2        10  2015  \n",
       "3        10  2015  \n",
       "4        10  2015  \n",
       "...     ...   ...  \n",
       "4290     12  2018  \n",
       "4291     12  2018  \n",
       "4292     12  2018  \n",
       "4293     12  2018  \n",
       "4294     12  2018  \n",
       "\n",
       "[4295 rows x 7 columns]"
      ]
     },
     "execution_count": 11,
     "metadata": {},
     "output_type": "execute_result"
    }
   ],
   "source": [
    "df"
   ]
  },
  {
   "cell_type": "code",
   "execution_count": 12,
   "id": "feb114a0",
   "metadata": {},
   "outputs": [],
   "source": [
    "from sklearn.preprocessing import MinMaxScaler"
   ]
  },
  {
   "cell_type": "code",
   "execution_count": 13,
   "id": "d6d26b5a",
   "metadata": {},
   "outputs": [],
   "source": [
    "scaling=MinMaxScaler()"
   ]
  },
  {
   "cell_type": "code",
   "execution_count": 14,
   "id": "76417bd9",
   "metadata": {},
   "outputs": [],
   "source": [
    "df['ORDER_QUANTITY'] = scaling.fit_transform(df[['ORDER_QUANTITY']])"
   ]
  },
  {
   "cell_type": "code",
   "execution_count": 15,
   "id": "d17a9a73",
   "metadata": {},
   "outputs": [],
   "source": [
    "X = df[['DELIVERY_REGION_ID','PRODUCT_ID', 'UNIT_PRICE','MONTH','YEAR','COUNTRY']]\n",
    "y = df['ORDER_QUANTITY']"
   ]
  },
  {
   "cell_type": "code",
   "execution_count": 16,
   "id": "a8be1be3",
   "metadata": {},
   "outputs": [],
   "source": [
    "from sklearn.model_selection import train_test_split\n",
    "X_train, X_test, y_train, y_test = train_test_split(X, y, test_size=0.2, random_state=42)"
   ]
  },
  {
   "cell_type": "code",
   "execution_count": 17,
   "id": "983fad40",
   "metadata": {},
   "outputs": [
    {
     "data": {
      "text/html": [
       "<style>#sk-container-id-1 {color: black;}#sk-container-id-1 pre{padding: 0;}#sk-container-id-1 div.sk-toggleable {background-color: white;}#sk-container-id-1 label.sk-toggleable__label {cursor: pointer;display: block;width: 100%;margin-bottom: 0;padding: 0.3em;box-sizing: border-box;text-align: center;}#sk-container-id-1 label.sk-toggleable__label-arrow:before {content: \"▸\";float: left;margin-right: 0.25em;color: #696969;}#sk-container-id-1 label.sk-toggleable__label-arrow:hover:before {color: black;}#sk-container-id-1 div.sk-estimator:hover label.sk-toggleable__label-arrow:before {color: black;}#sk-container-id-1 div.sk-toggleable__content {max-height: 0;max-width: 0;overflow: hidden;text-align: left;background-color: #f0f8ff;}#sk-container-id-1 div.sk-toggleable__content pre {margin: 0.2em;color: black;border-radius: 0.25em;background-color: #f0f8ff;}#sk-container-id-1 input.sk-toggleable__control:checked~div.sk-toggleable__content {max-height: 200px;max-width: 100%;overflow: auto;}#sk-container-id-1 input.sk-toggleable__control:checked~label.sk-toggleable__label-arrow:before {content: \"▾\";}#sk-container-id-1 div.sk-estimator input.sk-toggleable__control:checked~label.sk-toggleable__label {background-color: #d4ebff;}#sk-container-id-1 div.sk-label input.sk-toggleable__control:checked~label.sk-toggleable__label {background-color: #d4ebff;}#sk-container-id-1 input.sk-hidden--visually {border: 0;clip: rect(1px 1px 1px 1px);clip: rect(1px, 1px, 1px, 1px);height: 1px;margin: -1px;overflow: hidden;padding: 0;position: absolute;width: 1px;}#sk-container-id-1 div.sk-estimator {font-family: monospace;background-color: #f0f8ff;border: 1px dotted black;border-radius: 0.25em;box-sizing: border-box;margin-bottom: 0.5em;}#sk-container-id-1 div.sk-estimator:hover {background-color: #d4ebff;}#sk-container-id-1 div.sk-parallel-item::after {content: \"\";width: 100%;border-bottom: 1px solid gray;flex-grow: 1;}#sk-container-id-1 div.sk-label:hover label.sk-toggleable__label {background-color: #d4ebff;}#sk-container-id-1 div.sk-serial::before {content: \"\";position: absolute;border-left: 1px solid gray;box-sizing: border-box;top: 0;bottom: 0;left: 50%;z-index: 0;}#sk-container-id-1 div.sk-serial {display: flex;flex-direction: column;align-items: center;background-color: white;padding-right: 0.2em;padding-left: 0.2em;position: relative;}#sk-container-id-1 div.sk-item {position: relative;z-index: 1;}#sk-container-id-1 div.sk-parallel {display: flex;align-items: stretch;justify-content: center;background-color: white;position: relative;}#sk-container-id-1 div.sk-item::before, #sk-container-id-1 div.sk-parallel-item::before {content: \"\";position: absolute;border-left: 1px solid gray;box-sizing: border-box;top: 0;bottom: 0;left: 50%;z-index: -1;}#sk-container-id-1 div.sk-parallel-item {display: flex;flex-direction: column;z-index: 1;position: relative;background-color: white;}#sk-container-id-1 div.sk-parallel-item:first-child::after {align-self: flex-end;width: 50%;}#sk-container-id-1 div.sk-parallel-item:last-child::after {align-self: flex-start;width: 50%;}#sk-container-id-1 div.sk-parallel-item:only-child::after {width: 0;}#sk-container-id-1 div.sk-dashed-wrapped {border: 1px dashed gray;margin: 0 0.4em 0.5em 0.4em;box-sizing: border-box;padding-bottom: 0.4em;background-color: white;}#sk-container-id-1 div.sk-label label {font-family: monospace;font-weight: bold;display: inline-block;line-height: 1.2em;}#sk-container-id-1 div.sk-label-container {text-align: center;}#sk-container-id-1 div.sk-container {/* jupyter's `normalize.less` sets `[hidden] { display: none; }` but bootstrap.min.css set `[hidden] { display: none !important; }` so we also need the `!important` here to be able to override the default hidden behavior on the sphinx rendered scikit-learn.org. See: https://github.com/scikit-learn/scikit-learn/issues/21755 */display: inline-block !important;position: relative;}#sk-container-id-1 div.sk-text-repr-fallback {display: none;}</style><div id=\"sk-container-id-1\" class=\"sk-top-container\"><div class=\"sk-text-repr-fallback\"><pre>RandomForestRegressor(random_state=42)</pre><b>In a Jupyter environment, please rerun this cell to show the HTML representation or trust the notebook. <br />On GitHub, the HTML representation is unable to render, please try loading this page with nbviewer.org.</b></div><div class=\"sk-container\" hidden><div class=\"sk-item\"><div class=\"sk-estimator sk-toggleable\"><input class=\"sk-toggleable__control sk-hidden--visually\" id=\"sk-estimator-id-1\" type=\"checkbox\" checked><label for=\"sk-estimator-id-1\" class=\"sk-toggleable__label sk-toggleable__label-arrow\">RandomForestRegressor</label><div class=\"sk-toggleable__content\"><pre>RandomForestRegressor(random_state=42)</pre></div></div></div></div></div>"
      ],
      "text/plain": [
       "RandomForestRegressor(random_state=42)"
      ]
     },
     "execution_count": 17,
     "metadata": {},
     "output_type": "execute_result"
    }
   ],
   "source": [
    "from sklearn.ensemble import RandomForestRegressor\n",
    "from sklearn.metrics import mean_squared_error\n",
    "rf_model = RandomForestRegressor(n_estimators=100, random_state=42)\n",
    "rf_model.fit(X_train,y_train)"
   ]
  },
  {
   "cell_type": "code",
   "execution_count": 18,
   "id": "d5df0c6c",
   "metadata": {},
   "outputs": [],
   "source": [
    "predictions = rf_model.predict(X_test)"
   ]
  },
  {
   "cell_type": "code",
   "execution_count": 20,
   "id": "977b28d5",
   "metadata": {},
   "outputs": [
    {
     "name": "stdout",
     "output_type": "stream",
     "text": [
      "Mean Squared Error: 0.1115187094628305\n",
      "Root Mean Squared Error: 0.33394417117660624\n"
     ]
    }
   ],
   "source": [
    "mse = mean_squared_error(y_test, predictions)\n",
    "print(f\"Mean Squared Error: {mse}\")\n",
    "\n",
    "rmse = np.sqrt(mse)\n",
    "print(f\"Root Mean Squared Error: {rmse}\")\n"
   ]
  },
  {
   "cell_type": "code",
   "execution_count": 21,
   "id": "e7ab0ea2",
   "metadata": {},
   "outputs": [],
   "source": [
    " df_test = pd.read_excel(r'C:\\Users\\USER\\Desktop\\pp.xlsx')"
   ]
  },
  {
   "cell_type": "code",
   "execution_count": 22,
   "id": "ad035f20",
   "metadata": {},
   "outputs": [
    {
     "data": {
      "text/html": [
       "<div>\n",
       "<style scoped>\n",
       "    .dataframe tbody tr th:only-of-type {\n",
       "        vertical-align: middle;\n",
       "    }\n",
       "\n",
       "    .dataframe tbody tr th {\n",
       "        vertical-align: top;\n",
       "    }\n",
       "\n",
       "    .dataframe thead th {\n",
       "        text-align: right;\n",
       "    }\n",
       "</style>\n",
       "<table border=\"1\" class=\"dataframe\">\n",
       "  <thead>\n",
       "    <tr style=\"text-align: right;\">\n",
       "      <th></th>\n",
       "      <th>CHANNEL</th>\n",
       "      <th>DELIVERY_REGION_ID</th>\n",
       "      <th>PRODUCT_ID</th>\n",
       "      <th>UNIT_PRICE</th>\n",
       "      <th>CITY</th>\n",
       "      <th>COUNTRY</th>\n",
       "      <th>MONTH</th>\n",
       "      <th>YEAR</th>\n",
       "    </tr>\n",
       "  </thead>\n",
       "  <tbody>\n",
       "    <tr>\n",
       "      <th>0</th>\n",
       "      <td>Wholesale</td>\n",
       "      <td>5</td>\n",
       "      <td>6</td>\n",
       "      <td>5045.1</td>\n",
       "      <td>Broken Hill</td>\n",
       "      <td>Australia</td>\n",
       "      <td>1</td>\n",
       "      <td>2019</td>\n",
       "    </tr>\n",
       "    <tr>\n",
       "      <th>1</th>\n",
       "      <td>Export</td>\n",
       "      <td>24</td>\n",
       "      <td>22</td>\n",
       "      <td>3530.9</td>\n",
       "      <td>Wollongong</td>\n",
       "      <td>Australia</td>\n",
       "      <td>1</td>\n",
       "      <td>2019</td>\n",
       "    </tr>\n",
       "    <tr>\n",
       "      <th>2</th>\n",
       "      <td>Distributor</td>\n",
       "      <td>82</td>\n",
       "      <td>8</td>\n",
       "      <td>1118.9</td>\n",
       "      <td>Fermantle</td>\n",
       "      <td>Australia</td>\n",
       "      <td>1</td>\n",
       "      <td>2019</td>\n",
       "    </tr>\n",
       "  </tbody>\n",
       "</table>\n",
       "</div>"
      ],
      "text/plain": [
       "       CHANNEL  DELIVERY_REGION_ID  PRODUCT_ID  UNIT_PRICE         CITY  \\\n",
       "0    Wholesale                   5           6      5045.1  Broken Hill   \n",
       "1       Export                  24          22      3530.9   Wollongong   \n",
       "2  Distributor                  82           8      1118.9    Fermantle   \n",
       "\n",
       "     COUNTRY  MONTH  YEAR  \n",
       "0  Australia      1  2019  \n",
       "1  Australia      1  2019  \n",
       "2  Australia      1  2019  "
      ]
     },
     "execution_count": 22,
     "metadata": {},
     "output_type": "execute_result"
    }
   ],
   "source": [
    "df_test.head()"
   ]
  },
  {
   "cell_type": "code",
   "execution_count": 23,
   "id": "812f61ab",
   "metadata": {},
   "outputs": [],
   "source": [
    "df_test.drop(columns=['CHANNEL','CITY'], inplace=True)"
   ]
  },
  {
   "cell_type": "code",
   "execution_count": 24,
   "id": "0d8e7843",
   "metadata": {},
   "outputs": [],
   "source": [
    "df_test['COUNTRY'] = label_encoder.transform(df_test['COUNTRY'])"
   ]
  },
  {
   "cell_type": "code",
   "execution_count": 26,
   "id": "07c06725",
   "metadata": {},
   "outputs": [],
   "source": [
    "X = df_test[['DELIVERY_REGION_ID','PRODUCT_ID', 'UNIT_PRICE','MONTH','YEAR','COUNTRY']]"
   ]
  },
  {
   "cell_type": "code",
   "execution_count": 27,
   "id": "3e9ac21f",
   "metadata": {},
   "outputs": [],
   "source": [
    "pred = rf_model.predict(X)"
   ]
  },
  {
   "cell_type": "code",
   "execution_count": 28,
   "id": "e693494d",
   "metadata": {},
   "outputs": [],
   "source": [
    "denormalized_values = scaling.inverse_transform(pred.reshape(-1, 1))"
   ]
  },
  {
   "cell_type": "code",
   "execution_count": 29,
   "id": "ff86b862",
   "metadata": {},
   "outputs": [
    {
     "data": {
      "text/plain": [
       "array([[8.21],\n",
       "       [8.74],\n",
       "       [8.39]])"
      ]
     },
     "execution_count": 29,
     "metadata": {},
     "output_type": "execute_result"
    }
   ],
   "source": [
    "denormalized_values"
   ]
  },
  {
   "cell_type": "code",
   "execution_count": null,
   "id": "b51ff694",
   "metadata": {},
   "outputs": [],
   "source": []
  }
 ],
 "metadata": {
  "kernelspec": {
   "display_name": "Python 3 (ipykernel)",
   "language": "python",
   "name": "python3"
  },
  "language_info": {
   "codemirror_mode": {
    "name": "ipython",
    "version": 3
   },
   "file_extension": ".py",
   "mimetype": "text/x-python",
   "name": "python",
   "nbconvert_exporter": "python",
   "pygments_lexer": "ipython3",
   "version": "3.11.5"
  }
 },
 "nbformat": 4,
 "nbformat_minor": 5
}
