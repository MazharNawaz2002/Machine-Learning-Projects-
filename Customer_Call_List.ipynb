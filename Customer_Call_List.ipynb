{
 "cells": [
  {
   "cell_type": "code",
   "execution_count": 1,
   "id": "44da35e2",
   "metadata": {},
   "outputs": [],
   "source": [
    "import pandas as pd"
   ]
  },
  {
   "cell_type": "code",
   "execution_count": 2,
   "id": "841e64c8",
   "metadata": {},
   "outputs": [],
   "source": [
    "df=pd.read_excel(r'C:\\Users\\USER\\Downloads\\Customer Call List.xlsx')"
   ]
  },
  {
   "cell_type": "code",
   "execution_count": 3,
   "id": "ac543fe7",
   "metadata": {},
   "outputs": [
    {
     "data": {
      "text/html": [
       "<div>\n",
       "<style scoped>\n",
       "    .dataframe tbody tr th:only-of-type {\n",
       "        vertical-align: middle;\n",
       "    }\n",
       "\n",
       "    .dataframe tbody tr th {\n",
       "        vertical-align: top;\n",
       "    }\n",
       "\n",
       "    .dataframe thead th {\n",
       "        text-align: right;\n",
       "    }\n",
       "</style>\n",
       "<table border=\"1\" class=\"dataframe\">\n",
       "  <thead>\n",
       "    <tr style=\"text-align: right;\">\n",
       "      <th></th>\n",
       "      <th>Unnamed: 0</th>\n",
       "      <th>CustomerID</th>\n",
       "      <th>First_Name</th>\n",
       "      <th>Last_Name</th>\n",
       "      <th>Phone_Number</th>\n",
       "      <th>Paying Customer</th>\n",
       "      <th>Do_Not_Contact</th>\n",
       "      <th>Street_Address</th>\n",
       "      <th>State</th>\n",
       "      <th>Zip_code</th>\n",
       "    </tr>\n",
       "  </thead>\n",
       "  <tbody>\n",
       "    <tr>\n",
       "      <th>0</th>\n",
       "      <td>0</td>\n",
       "      <td>1001</td>\n",
       "      <td>Frodo</td>\n",
       "      <td>Baggins</td>\n",
       "      <td>123-545-5421</td>\n",
       "      <td>Y</td>\n",
       "      <td>N</td>\n",
       "      <td>123 Shire Lane</td>\n",
       "      <td>Shire</td>\n",
       "      <td>NaN</td>\n",
       "    </tr>\n",
       "    <tr>\n",
       "      <th>1</th>\n",
       "      <td>1</td>\n",
       "      <td>1005</td>\n",
       "      <td>Jon</td>\n",
       "      <td>Snow</td>\n",
       "      <td>876-678-3469</td>\n",
       "      <td>Y</td>\n",
       "      <td>N</td>\n",
       "      <td>123 Dragons Road</td>\n",
       "      <td>NaN</td>\n",
       "      <td>NaN</td>\n",
       "    </tr>\n",
       "    <tr>\n",
       "      <th>2</th>\n",
       "      <td>2</td>\n",
       "      <td>1008</td>\n",
       "      <td>Sherlock</td>\n",
       "      <td>Holmes</td>\n",
       "      <td>876-678-3469</td>\n",
       "      <td>N</td>\n",
       "      <td>N</td>\n",
       "      <td>98 Clue Drive</td>\n",
       "      <td>NaN</td>\n",
       "      <td>NaN</td>\n",
       "    </tr>\n",
       "    <tr>\n",
       "      <th>3</th>\n",
       "      <td>3</td>\n",
       "      <td>1010</td>\n",
       "      <td>Peter</td>\n",
       "      <td>Parker</td>\n",
       "      <td>123-545-5421</td>\n",
       "      <td>Y</td>\n",
       "      <td>N</td>\n",
       "      <td>25th Main Street</td>\n",
       "      <td>New York</td>\n",
       "      <td>NaN</td>\n",
       "    </tr>\n",
       "    <tr>\n",
       "      <th>4</th>\n",
       "      <td>4</td>\n",
       "      <td>1013</td>\n",
       "      <td>Don</td>\n",
       "      <td>Draper</td>\n",
       "      <td>123-543-2345</td>\n",
       "      <td>Y</td>\n",
       "      <td>N</td>\n",
       "      <td>2039 Main Street</td>\n",
       "      <td>NaN</td>\n",
       "      <td>NaN</td>\n",
       "    </tr>\n",
       "    <tr>\n",
       "      <th>5</th>\n",
       "      <td>5</td>\n",
       "      <td>1014</td>\n",
       "      <td>Leslie</td>\n",
       "      <td>Knope</td>\n",
       "      <td>876-678-3469</td>\n",
       "      <td>Y</td>\n",
       "      <td>N</td>\n",
       "      <td>343 City Parkway</td>\n",
       "      <td>NaN</td>\n",
       "      <td>NaN</td>\n",
       "    </tr>\n",
       "    <tr>\n",
       "      <th>6</th>\n",
       "      <td>6</td>\n",
       "      <td>1015</td>\n",
       "      <td>Toby</td>\n",
       "      <td>Flenderson</td>\n",
       "      <td>304-762-2467</td>\n",
       "      <td>N</td>\n",
       "      <td>N</td>\n",
       "      <td>214 HR Avenue</td>\n",
       "      <td>NaN</td>\n",
       "      <td>NaN</td>\n",
       "    </tr>\n",
       "    <tr>\n",
       "      <th>7</th>\n",
       "      <td>7</td>\n",
       "      <td>1016</td>\n",
       "      <td>Ron</td>\n",
       "      <td>Weasley</td>\n",
       "      <td>123-545-5421</td>\n",
       "      <td>N</td>\n",
       "      <td>N</td>\n",
       "      <td>2395 Hogwarts Avenue</td>\n",
       "      <td>NaN</td>\n",
       "      <td>NaN</td>\n",
       "    </tr>\n",
       "    <tr>\n",
       "      <th>8</th>\n",
       "      <td>8</td>\n",
       "      <td>1017</td>\n",
       "      <td>Michael</td>\n",
       "      <td>Scott</td>\n",
       "      <td>123-643-9775</td>\n",
       "      <td>Y</td>\n",
       "      <td>N</td>\n",
       "      <td>121 Paper Avenue</td>\n",
       "      <td>Pennsylvania</td>\n",
       "      <td>NaN</td>\n",
       "    </tr>\n",
       "    <tr>\n",
       "      <th>9</th>\n",
       "      <td>9</td>\n",
       "      <td>1020</td>\n",
       "      <td>Anakin</td>\n",
       "      <td>Skywalker</td>\n",
       "      <td>876-678-3469</td>\n",
       "      <td>Y</td>\n",
       "      <td>N</td>\n",
       "      <td>910 Tatooine Road</td>\n",
       "      <td>Tatooine</td>\n",
       "      <td>NaN</td>\n",
       "    </tr>\n",
       "  </tbody>\n",
       "</table>\n",
       "</div>"
      ],
      "text/plain": [
       "   Unnamed: 0  CustomerID First_Name   Last_Name  Phone_Number  \\\n",
       "0           0        1001      Frodo     Baggins  123-545-5421   \n",
       "1           1        1005        Jon        Snow  876-678-3469   \n",
       "2           2        1008   Sherlock      Holmes  876-678-3469   \n",
       "3           3        1010      Peter      Parker  123-545-5421   \n",
       "4           4        1013        Don      Draper  123-543-2345   \n",
       "5           5        1014     Leslie       Knope  876-678-3469   \n",
       "6           6        1015       Toby  Flenderson  304-762-2467   \n",
       "7           7        1016        Ron     Weasley  123-545-5421   \n",
       "8           8        1017   Michael        Scott  123-643-9775   \n",
       "9           9        1020     Anakin   Skywalker  876-678-3469   \n",
       "\n",
       "  Paying Customer Do_Not_Contact        Street_Address          State  \\\n",
       "0               Y              N        123 Shire Lane          Shire   \n",
       "1               Y              N      123 Dragons Road            NaN   \n",
       "2               N              N         98 Clue Drive            NaN   \n",
       "3               Y              N      25th Main Street       New York   \n",
       "4               Y              N      2039 Main Street            NaN   \n",
       "5               Y              N      343 City Parkway            NaN   \n",
       "6               N              N         214 HR Avenue            NaN   \n",
       "7               N              N  2395 Hogwarts Avenue            NaN   \n",
       "8               Y              N      121 Paper Avenue   Pennsylvania   \n",
       "9               Y              N     910 Tatooine Road       Tatooine   \n",
       "\n",
       "   Zip_code  \n",
       "0       NaN  \n",
       "1       NaN  \n",
       "2       NaN  \n",
       "3       NaN  \n",
       "4       NaN  \n",
       "5       NaN  \n",
       "6       NaN  \n",
       "7       NaN  \n",
       "8       NaN  \n",
       "9       NaN  "
      ]
     },
     "execution_count": 3,
     "metadata": {},
     "output_type": "execute_result"
    }
   ],
   "source": [
    "df"
   ]
  },
  {
   "cell_type": "code",
   "execution_count": 4,
   "id": "09afed69",
   "metadata": {},
   "outputs": [
    {
     "ename": "TypeError",
     "evalue": "'tuple' object is not callable",
     "output_type": "error",
     "traceback": [
      "\u001b[1;31m---------------------------------------------------------------------------\u001b[0m",
      "\u001b[1;31mTypeError\u001b[0m                                 Traceback (most recent call last)",
      "Cell \u001b[1;32mIn[4], line 1\u001b[0m\n\u001b[1;32m----> 1\u001b[0m df\u001b[38;5;241m.\u001b[39mshape()\n",
      "\u001b[1;31mTypeError\u001b[0m: 'tuple' object is not callable"
     ]
    }
   ],
   "source": [
    "df.shape()"
   ]
  },
  {
   "cell_type": "code",
   "execution_count": null,
   "id": "ea38728a",
   "metadata": {},
   "outputs": [],
   "source": [
    "#Drop duplicate rows in data set \n",
    "df=df.drop_duplicates()"
   ]
  },
  {
   "cell_type": "code",
   "execution_count": null,
   "id": "1250a6fe",
   "metadata": {},
   "outputs": [],
   "source": [
    "df"
   ]
  },
  {
   "cell_type": "code",
   "execution_count": null,
   "id": "0f361c06",
   "metadata": {},
   "outputs": [],
   "source": [
    "#drop the unecessary columns \n",
    "df=df.drop(columns=[\"Not_Useful_Column\"])"
   ]
  },
  {
   "cell_type": "code",
   "execution_count": null,
   "id": "19f0b2ac",
   "metadata": {},
   "outputs": [],
   "source": [
    "df"
   ]
  },
  {
   "cell_type": "code",
   "execution_count": null,
   "id": "286d1a3b",
   "metadata": {},
   "outputs": [],
   "source": [
    "#Remove the unecessary characters from left and right\n",
    "df[\"Last_Name\"]=df[\"Last_Name\"].str.lstrip(\"...\")\n",
    "df[\"Last_Name\"]=df[\"Last_Name\"].str.lstrip(\"/\")\n",
    "df[\"Last_Name\"]=df[\"Last_Name\"].str.rstrip(\"_\")\n",
    "#df[\"Last_Name\"]=df[\"Last_Name\"].str.strip(\"123._/\")"
   ]
  },
  {
   "cell_type": "code",
   "execution_count": null,
   "id": "8fd48a4a",
   "metadata": {},
   "outputs": [],
   "source": [
    "df"
   ]
  },
  {
   "cell_type": "code",
   "execution_count": null,
   "id": "b6e484cc",
   "metadata": {},
   "outputs": [],
   "source": [
    "#Remove the characters /,---\n",
    "df[\"Phone_Number\"] = df[\"Phone_Number\"].str.replace('[^a-zA-Z0-9]','',regex=True)"
   ]
  },
  {
   "cell_type": "code",
   "execution_count": null,
   "id": "4da5bce6",
   "metadata": {},
   "outputs": [],
   "source": [
    "df"
   ]
  },
  {
   "cell_type": "code",
   "execution_count": null,
   "id": "0381156a",
   "metadata": {},
   "outputs": [],
   "source": [
    "#Change the  type of phone number to string\n",
    "df[\"Phone_Number\"] = df[\"Phone_Number\"].apply(lambda x: str(x))"
   ]
  },
  {
   "cell_type": "code",
   "execution_count": null,
   "id": "f3d57d0d",
   "metadata": {},
   "outputs": [],
   "source": [
    "df"
   ]
  },
  {
   "cell_type": "code",
   "execution_count": null,
   "id": "51f87661",
   "metadata": {},
   "outputs": [],
   "source": [
    "#Add phone number pattern\n",
    "df[\"Phone_Number\"] = df[\"Phone_Number\"].apply(lambda x: x[0:3] +'-'+ x[3:6] +'-'+ x[6:10])"
   ]
  },
  {
   "cell_type": "code",
   "execution_count": null,
   "id": "3385132e",
   "metadata": {},
   "outputs": [],
   "source": [
    "df"
   ]
  },
  {
   "cell_type": "code",
   "execution_count": null,
   "id": "81192306",
   "metadata": {},
   "outputs": [],
   "source": [
    "#remove the nan-- and Na in phone number\n",
    "df[\"Phone_Number\"] = df[\"Phone_Number\"].str.replace('nan--','')\n",
    "df[\"Phone_Number\"] = df[\"Phone_Number\"].str.replace('Na--','')"
   ]
  },
  {
   "cell_type": "code",
   "execution_count": null,
   "id": "8bb1d5a1",
   "metadata": {},
   "outputs": [],
   "source": [
    "df"
   ]
  },
  {
   "cell_type": "code",
   "execution_count": null,
   "id": "5b8dd0de",
   "metadata": {},
   "outputs": [],
   "source": [
    "#Split the address column\n",
    "df[[\"Street_Address\",\"State\",\"Zip_code\"]] = df[\"Address\"].str.split(',',n=2, expand=True)"
   ]
  },
  {
   "cell_type": "code",
   "execution_count": null,
   "id": "dee47504",
   "metadata": {},
   "outputs": [],
   "source": [
    "df"
   ]
  },
  {
   "cell_type": "code",
   "execution_count": null,
   "id": "92fb8c42",
   "metadata": {},
   "outputs": [],
   "source": [
    "#replace Yes or no \n",
    "df[\"Paying Customer\"] = df[\"Paying Customer\"].str.replace('Yes','Y')\n",
    "df[\"Paying Customer\"] = df[\"Paying Customer\"].str.replace('No','N')\n",
    "df[\"Do_Not_Contact\"] = df[\"Do_Not_Contact\"].str.replace('Yes','Y')\n",
    "df[\"Do_Not_Contact\"] = df[\"Do_Not_Contact\"].str.replace('No','N')"
   ]
  },
  {
   "cell_type": "code",
   "execution_count": null,
   "id": "4f267d45",
   "metadata": {},
   "outputs": [],
   "source": [
    "df"
   ]
  },
  {
   "cell_type": "code",
   "execution_count": null,
   "id": "883808e3",
   "metadata": {},
   "outputs": [],
   "source": [
    "#replace N/a\n",
    "df = df.replace('N/a','')"
   ]
  },
  {
   "cell_type": "code",
   "execution_count": null,
   "id": "4b739254",
   "metadata": {},
   "outputs": [],
   "source": [
    "df"
   ]
  },
  {
   "cell_type": "code",
   "execution_count": null,
   "id": "cd3fc033",
   "metadata": {},
   "outputs": [],
   "source": [
    "#replace NaN with null\n",
    "df = df.fillna('')"
   ]
  },
  {
   "cell_type": "code",
   "execution_count": null,
   "id": "112278df",
   "metadata": {},
   "outputs": [],
   "source": [
    "df"
   ]
  },
  {
   "cell_type": "code",
   "execution_count": null,
   "id": "34d26f52",
   "metadata": {},
   "outputs": [],
   "source": [
    "for x in df.index:\n",
    "    if df.loc[x,\"Do_Not_Contact\"] == 'Y':\n",
    "       df.drop(x, inplace=True)\n",
    "df"
   ]
  },
  {
   "cell_type": "code",
   "execution_count": null,
   "id": "6058d708",
   "metadata": {},
   "outputs": [],
   "source": [
    "df=df.drop(columns=[\"Address\"])\n",
    "df"
   ]
  },
  {
   "cell_type": "code",
   "execution_count": null,
   "id": "253278d7",
   "metadata": {},
   "outputs": [],
   "source": [
    "for x in df.index:\n",
    "    if df.loc[x,\"Phone_Number\"] == '':\n",
    "       df.drop(x, inplace=True)\n",
    "df\n",
    "#Another way to drop null values\n",
    "#df=df.dropna(subset=\"Phone_Number\"), inplace=True"
   ]
  },
  {
   "cell_type": "code",
   "execution_count": null,
   "id": "79a0c26d",
   "metadata": {},
   "outputs": [],
   "source": [
    "df = df.reset_index(drop=True)"
   ]
  },
  {
   "cell_type": "code",
   "execution_count": null,
   "id": "45c12762",
   "metadata": {},
   "outputs": [],
   "source": [
    "df"
   ]
  },
  {
   "cell_type": "code",
   "execution_count": null,
   "id": "00655174",
   "metadata": {},
   "outputs": [],
   "source": [
    "df.to_excel('C:\\\\Users\\\\USER\\\\Downloads\\\\Customer Call List.xlsx', index=True)"
   ]
  }
 ],
 "metadata": {
  "kernelspec": {
   "display_name": "Python 3 (ipykernel)",
   "language": "python",
   "name": "python3"
  },
  "language_info": {
   "codemirror_mode": {
    "name": "ipython",
    "version": 3
   },
   "file_extension": ".py",
   "mimetype": "text/x-python",
   "name": "python",
   "nbconvert_exporter": "python",
   "pygments_lexer": "ipython3",
   "version": "3.11.5"
  }
 },
 "nbformat": 4,
 "nbformat_minor": 5
}
